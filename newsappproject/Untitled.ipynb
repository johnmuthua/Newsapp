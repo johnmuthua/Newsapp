{
 "cells": [
  {
   "cell_type": "code",
   "execution_count": 1,
   "metadata": {},
   "outputs": [],
   "source": [
    "import requests\n",
    "country = 'us'\n",
    "KEY = 'fa22f16f499743189d15691ded47f60b'\n",
    "url = ('https://newsapi.org/v2/top-headlines?'\n",
    "           'country='+ country+ '&'\n",
    "           'apiKey=' + KEY)\n",
    "response = requests.get(url).json()"
   ]
  },
  {
   "cell_type": "code",
   "execution_count": 22,
   "metadata": {},
   "outputs": [
    {
     "name": "stdout",
     "output_type": "stream",
     "text": [
      "2019-12-02T09:20:57Z\n",
      "2019-12-02T08:49:00Z\n",
      "2019-12-02T07:39:00Z\n",
      "2019-12-02T07:07:00Z\n",
      "2019-12-02T06:42:33Z\n",
      "2019-12-02T06:42:00Z\n",
      "2019-12-02T06:09:00Z\n",
      "2019-12-02T05:23:43Z\n",
      "2019-12-02T05:13:14Z\n",
      "2019-12-02T05:00:00Z\n",
      "2019-12-02T04:51:00Z\n",
      "2019-12-02T04:40:35Z\n",
      "2019-12-02T04:32:00Z\n",
      "2019-12-02T04:11:00Z\n",
      "2019-12-02T04:10:00Z\n",
      "2019-12-02T04:07:53Z\n",
      "2019-12-02T04:00:00Z\n",
      "2019-12-02T03:26:29Z\n",
      "2019-12-02T02:46:39Z\n",
      "2019-12-02T02:26:03Z\n"
     ]
    }
   ],
   "source": [
    "for r in response['articles']:\n",
    "    print (r['publishedAt'])"
   ]
  },
  {
   "cell_type": "code",
   "execution_count": 11,
   "metadata": {},
   "outputs": [],
   "source": [
    "news=response['articles'][0]"
   ]
  },
  {
   "cell_type": "code",
   "execution_count": 13,
   "metadata": {},
   "outputs": [
    {
     "ename": "AttributeError",
     "evalue": "'dict' object has no attribute 'source'",
     "output_type": "error",
     "traceback": [
      "\u001b[0;31m---------------------------------------------------------------------------\u001b[0m",
      "\u001b[0;31mAttributeError\u001b[0m                            Traceback (most recent call last)",
      "\u001b[0;32m<ipython-input-13-99b84a877bb6>\u001b[0m in \u001b[0;36m<module>\u001b[0;34m\u001b[0m\n\u001b[0;32m----> 1\u001b[0;31m \u001b[0mnews\u001b[0m\u001b[0;34m.\u001b[0m\u001b[0msource\u001b[0m\u001b[0;34m\u001b[0m\u001b[0;34m\u001b[0m\u001b[0m\n\u001b[0m",
      "\u001b[0;31mAttributeError\u001b[0m: 'dict' object has no attribute 'source'"
     ]
    }
   ],
   "source": [
    "news.source"
   ]
  }
 ],
 "metadata": {
  "kernelspec": {
   "display_name": "Python 3",
   "language": "python",
   "name": "python3"
  },
  "language_info": {
   "codemirror_mode": {
    "name": "ipython",
    "version": 3
   },
   "file_extension": ".py",
   "mimetype": "text/x-python",
   "name": "python",
   "nbconvert_exporter": "python",
   "pygments_lexer": "ipython3",
   "version": "3.7.4"
  }
 },
 "nbformat": 4,
 "nbformat_minor": 2
}
